{
  "nbformat": 4,
  "nbformat_minor": 0,
  "metadata": {
    "colab": {
      "name": "Aula 2702.ipynb",
      "version": "0.3.2",
      "provenance": []
    },
    "kernelspec": {
      "name": "python3",
      "display_name": "Python 3"
    }
  },
  "cells": [
    {
      "metadata": {
        "id": "lFb6o6EUjm3B",
        "colab_type": "code",
        "colab": {}
      },
      "cell_type": "code",
      "source": [
        "import pandas as pd\n",
        "import statsmodels.formula.api as sms\n",
        "import matplotlib.pyplot as plt\n",
        "import numpy as np\n",
        "%matplotlib inline"
      ],
      "execution_count": 0,
      "outputs": []
    },
    {
      "metadata": {
        "id": "8cWCa1Ohjqqi",
        "colab_type": "code",
        "colab": {
          "base_uri": "https://localhost:8080/",
          "height": 204
        },
        "outputId": "59fe7c7a-e849-4a77-df91-73381c9e973a"
      },
      "cell_type": "code",
      "source": [
        "adv = pd.read_csv(\"http://www-bcf.usc.edu/~gareth/ISL/Advertising.csv\")\n",
        "adv = adv.drop(columns=[\"Unnamed: 0\"], axis=1) # Dropa a primeira coluna \n",
        "adv.head() # primeiros casos "
      ],
      "execution_count": 12,
      "outputs": [
        {
          "output_type": "execute_result",
          "data": {
            "text/html": [
              "<div>\n",
              "<style scoped>\n",
              "    .dataframe tbody tr th:only-of-type {\n",
              "        vertical-align: middle;\n",
              "    }\n",
              "\n",
              "    .dataframe tbody tr th {\n",
              "        vertical-align: top;\n",
              "    }\n",
              "\n",
              "    .dataframe thead th {\n",
              "        text-align: right;\n",
              "    }\n",
              "</style>\n",
              "<table border=\"1\" class=\"dataframe\">\n",
              "  <thead>\n",
              "    <tr style=\"text-align: right;\">\n",
              "      <th></th>\n",
              "      <th>TV</th>\n",
              "      <th>radio</th>\n",
              "      <th>newspaper</th>\n",
              "      <th>sales</th>\n",
              "    </tr>\n",
              "  </thead>\n",
              "  <tbody>\n",
              "    <tr>\n",
              "      <th>0</th>\n",
              "      <td>230.1</td>\n",
              "      <td>37.8</td>\n",
              "      <td>69.2</td>\n",
              "      <td>22.1</td>\n",
              "    </tr>\n",
              "    <tr>\n",
              "      <th>1</th>\n",
              "      <td>44.5</td>\n",
              "      <td>39.3</td>\n",
              "      <td>45.1</td>\n",
              "      <td>10.4</td>\n",
              "    </tr>\n",
              "    <tr>\n",
              "      <th>2</th>\n",
              "      <td>17.2</td>\n",
              "      <td>45.9</td>\n",
              "      <td>69.3</td>\n",
              "      <td>9.3</td>\n",
              "    </tr>\n",
              "    <tr>\n",
              "      <th>3</th>\n",
              "      <td>151.5</td>\n",
              "      <td>41.3</td>\n",
              "      <td>58.5</td>\n",
              "      <td>18.5</td>\n",
              "    </tr>\n",
              "    <tr>\n",
              "      <th>4</th>\n",
              "      <td>180.8</td>\n",
              "      <td>10.8</td>\n",
              "      <td>58.4</td>\n",
              "      <td>12.9</td>\n",
              "    </tr>\n",
              "  </tbody>\n",
              "</table>\n",
              "</div>"
            ],
            "text/plain": [
              "      TV  radio  newspaper  sales\n",
              "0  230.1   37.8       69.2   22.1\n",
              "1   44.5   39.3       45.1   10.4\n",
              "2   17.2   45.9       69.3    9.3\n",
              "3  151.5   41.3       58.5   18.5\n",
              "4  180.8   10.8       58.4   12.9"
            ]
          },
          "metadata": {
            "tags": []
          },
          "execution_count": 12
        }
      ]
    },
    {
      "metadata": {
        "id": "27r4erBkkQV8",
        "colab_type": "code",
        "colab": {
          "base_uri": "https://localhost:8080/",
          "height": 442
        },
        "outputId": "9bbd40d1-e56f-40e0-c13a-6980e057d0a6"
      },
      "cell_type": "code",
      "source": [
        "# Primeira regressão\n",
        "\n",
        "# Ajusta o modelo e coloca em model_tv\n",
        "model_tv = sms.ols(formula=\"sales ~ TV\", data=adv).fit()\n",
        "\n",
        "print(model_tv.summary()) # estatisticas descritivas\n",
        "# Para empresa que não investiu nada em TV, espera-se uma venda de 7000 unidades\n",
        "# Para cada dolar a mais que uma empresa gasta com proganda na tv, espera-se o \n",
        "# aumento de 20 unidades\n",
        "# O p-value é maior do que 0,005 então eu rejeito a hipotese nula e defino que\n",
        "# existe uma relação entre venda e propaganda em TV\n",
        "\n"
      ],
      "execution_count": 17,
      "outputs": [
        {
          "output_type": "stream",
          "text": [
            "                            OLS Regression Results                            \n",
            "==============================================================================\n",
            "Dep. Variable:                  sales   R-squared:                       0.612\n",
            "Model:                            OLS   Adj. R-squared:                  0.610\n",
            "Method:                 Least Squares   F-statistic:                     312.1\n",
            "Date:                Thu, 28 Feb 2019   Prob (F-statistic):           1.47e-42\n",
            "Time:                        00:58:55   Log-Likelihood:                -519.05\n",
            "No. Observations:                 200   AIC:                             1042.\n",
            "Df Residuals:                     198   BIC:                             1049.\n",
            "Df Model:                           1                                         \n",
            "Covariance Type:            nonrobust                                         \n",
            "==============================================================================\n",
            "                 coef    std err          t      P>|t|      [0.025      0.975]\n",
            "------------------------------------------------------------------------------\n",
            "Intercept      7.0326      0.458     15.360      0.000       6.130       7.935\n",
            "TV             0.0475      0.003     17.668      0.000       0.042       0.053\n",
            "==============================================================================\n",
            "Omnibus:                        0.531   Durbin-Watson:                   1.935\n",
            "Prob(Omnibus):                  0.767   Jarque-Bera (JB):                0.669\n",
            "Skew:                          -0.089   Prob(JB):                        0.716\n",
            "Kurtosis:                       2.779   Cond. No.                         338.\n",
            "==============================================================================\n",
            "\n",
            "Warnings:\n",
            "[1] Standard Errors assume that the covariance matrix of the errors is correctly specified.\n"
          ],
          "name": "stdout"
        }
      ]
    },
    {
      "metadata": {
        "id": "Q7Tp5VyQn45R",
        "colab_type": "code",
        "colab": {
          "base_uri": "https://localhost:8080/",
          "height": 442
        },
        "outputId": "09dac06f-9819-44ba-f5f3-4f7d59f05c8a"
      },
      "cell_type": "code",
      "source": [
        "# Segunda regressão\n",
        "model_rad = sms.ols (formula = \"sales ~ radio\", data=adv).fit()\n",
        "print(model_rad.summary())\n",
        "\n",
        "# Para uma empresa que não investe nada em propaganda em radio, espera-se que tenha\n",
        "# a venda media de 9311 unidades\n",
        "# Para cada mil dolare a mais que eu invisto no radio espera-se um aumento médio\n",
        "# de 200 unidades medidas"
      ],
      "execution_count": 23,
      "outputs": [
        {
          "output_type": "stream",
          "text": [
            "                            OLS Regression Results                            \n",
            "==============================================================================\n",
            "Dep. Variable:                  sales   R-squared:                       0.332\n",
            "Model:                            OLS   Adj. R-squared:                  0.329\n",
            "Method:                 Least Squares   F-statistic:                     98.42\n",
            "Date:                Thu, 28 Feb 2019   Prob (F-statistic):           4.35e-19\n",
            "Time:                        01:04:14   Log-Likelihood:                -573.34\n",
            "No. Observations:                 200   AIC:                             1151.\n",
            "Df Residuals:                     198   BIC:                             1157.\n",
            "Df Model:                           1                                         \n",
            "Covariance Type:            nonrobust                                         \n",
            "==============================================================================\n",
            "                 coef    std err          t      P>|t|      [0.025      0.975]\n",
            "------------------------------------------------------------------------------\n",
            "Intercept      9.3116      0.563     16.542      0.000       8.202      10.422\n",
            "radio          0.2025      0.020      9.921      0.000       0.162       0.243\n",
            "==============================================================================\n",
            "Omnibus:                       19.358   Durbin-Watson:                   1.946\n",
            "Prob(Omnibus):                  0.000   Jarque-Bera (JB):               21.910\n",
            "Skew:                          -0.764   Prob(JB):                     1.75e-05\n",
            "Kurtosis:                       3.544   Cond. No.                         51.4\n",
            "==============================================================================\n",
            "\n",
            "Warnings:\n",
            "[1] Standard Errors assume that the covariance matrix of the errors is correctly specified.\n"
          ],
          "name": "stdout"
        }
      ]
    },
    {
      "metadata": {
        "id": "huj461vupWxZ",
        "colab_type": "code",
        "colab": {
          "base_uri": "https://localhost:8080/",
          "height": 442
        },
        "outputId": "dd24dab8-ede8-4391-e276-1c068c312d50"
      },
      "cell_type": "code",
      "source": [
        "# Terceira regressão\n",
        "model_news = sms.ols(formula=\"sales ~ newspaper\", data = adv).fit()\n",
        "print(model_news.summary())\n",
        "\n",
        "# Para uma empresa que não investe em propaganda em jornais, espera-se uma\n",
        "# venda média de 12351 unidades\n",
        "# Para cada mil dolares investido em jornal espera-se um aumento médio de \n",
        "# 54 unidades nas vendas\n",
        "# Foi significativo pois os p values são inferiores à 0,05\n"
      ],
      "execution_count": 28,
      "outputs": [
        {
          "output_type": "stream",
          "text": [
            "                            OLS Regression Results                            \n",
            "==============================================================================\n",
            "Dep. Variable:                  sales   R-squared:                       0.052\n",
            "Model:                            OLS   Adj. R-squared:                  0.047\n",
            "Method:                 Least Squares   F-statistic:                     10.89\n",
            "Date:                Thu, 28 Feb 2019   Prob (F-statistic):            0.00115\n",
            "Time:                        01:12:24   Log-Likelihood:                -608.34\n",
            "No. Observations:                 200   AIC:                             1221.\n",
            "Df Residuals:                     198   BIC:                             1227.\n",
            "Df Model:                           1                                         \n",
            "Covariance Type:            nonrobust                                         \n",
            "==============================================================================\n",
            "                 coef    std err          t      P>|t|      [0.025      0.975]\n",
            "------------------------------------------------------------------------------\n",
            "Intercept     12.3514      0.621     19.876      0.000      11.126      13.577\n",
            "newspaper      0.0547      0.017      3.300      0.001       0.022       0.087\n",
            "==============================================================================\n",
            "Omnibus:                        6.231   Durbin-Watson:                   1.983\n",
            "Prob(Omnibus):                  0.044   Jarque-Bera (JB):                5.483\n",
            "Skew:                           0.330   Prob(JB):                       0.0645\n",
            "Kurtosis:                       2.527   Cond. No.                         64.7\n",
            "==============================================================================\n",
            "\n",
            "Warnings:\n",
            "[1] Standard Errors assume that the covariance matrix of the errors is correctly specified.\n"
          ],
          "name": "stdout"
        }
      ]
    },
    {
      "metadata": {
        "id": "YJFUNl_sqk1A",
        "colab_type": "code",
        "colab": {
          "base_uri": "https://localhost:8080/",
          "height": 68
        },
        "outputId": "85302bf5-9777-49b5-ee0b-0c8920e870ea"
      },
      "cell_type": "code",
      "source": [
        "# Vamos exibir os três paramêtros juntos só para facilitar a comparação\n",
        "print(\"Modelo TV: \\t\" + str(model_tv.params[1]))\n",
        "print(\"Modelo rádio: \\t\" + str(model_rad.params[1]))\n",
        "print(\"Modelo jornal: \\t\" + str(model_news.params[1]))"
      ],
      "execution_count": 30,
      "outputs": [
        {
          "output_type": "stream",
          "text": [
            "Modelo TV: \t0.047536640433019764\n",
            "Modelo rádio: \t0.20249578339243982\n",
            "Modelo jornal: \t0.05469309847227315\n"
          ],
          "name": "stdout"
        }
      ]
    },
    {
      "metadata": {
        "id": "zQaDTGzQq_2A",
        "colab_type": "code",
        "colab": {
          "base_uri": "https://localhost:8080/",
          "height": 476
        },
        "outputId": "7ce91b1e-ac31-488a-c96f-de20609a0199"
      },
      "cell_type": "code",
      "source": [
        "# Agora, estimando com os três preditores ao mesmo tempo\n",
        "\n",
        "model_complete = sms.ols(formula=\"sales ~TV + radio + newspaper\",\n",
        "                        data=adv).fit()\n",
        "print(model_complete.summary())\n",
        "\n",
        "# O valor esperado para a empresa que não investe em nenhum é 2938 unidades\n",
        "# Para cada aumento em tv espera-se um aumento de 45 unidades\n",
        "# Para cada mil dolares a mais em radio espera-se um aumento medio de 1885 un\n",
        "\n",
        "# Para cada mil dolares a mais em jornal espera-se a queda de 1 unidade\n",
        "# O p value é maior que 0,05"
      ],
      "execution_count": 32,
      "outputs": [
        {
          "output_type": "stream",
          "text": [
            "                            OLS Regression Results                            \n",
            "==============================================================================\n",
            "Dep. Variable:                  sales   R-squared:                       0.897\n",
            "Model:                            OLS   Adj. R-squared:                  0.896\n",
            "Method:                 Least Squares   F-statistic:                     570.3\n",
            "Date:                Thu, 28 Feb 2019   Prob (F-statistic):           1.58e-96\n",
            "Time:                        01:18:08   Log-Likelihood:                -386.18\n",
            "No. Observations:                 200   AIC:                             780.4\n",
            "Df Residuals:                     196   BIC:                             793.6\n",
            "Df Model:                           3                                         \n",
            "Covariance Type:            nonrobust                                         \n",
            "==============================================================================\n",
            "                 coef    std err          t      P>|t|      [0.025      0.975]\n",
            "------------------------------------------------------------------------------\n",
            "Intercept      2.9389      0.312      9.422      0.000       2.324       3.554\n",
            "TV             0.0458      0.001     32.809      0.000       0.043       0.049\n",
            "radio          0.1885      0.009     21.893      0.000       0.172       0.206\n",
            "newspaper     -0.0010      0.006     -0.177      0.860      -0.013       0.011\n",
            "==============================================================================\n",
            "Omnibus:                       60.414   Durbin-Watson:                   2.084\n",
            "Prob(Omnibus):                  0.000   Jarque-Bera (JB):              151.241\n",
            "Skew:                          -1.327   Prob(JB):                     1.44e-33\n",
            "Kurtosis:                       6.332   Cond. No.                         454.\n",
            "==============================================================================\n",
            "\n",
            "Warnings:\n",
            "[1] Standard Errors assume that the covariance matrix of the errors is correctly specified.\n"
          ],
          "name": "stdout"
        }
      ]
    },
    {
      "metadata": {
        "id": "UNUz-s8GtfdK",
        "colab_type": "code",
        "colab": {
          "base_uri": "https://localhost:8080/",
          "height": 142
        },
        "outputId": "2a9e5c21-2bb6-4ec3-b448-bf97d5928424"
      },
      "cell_type": "code",
      "source": [
        "# Vamos verificar a matriz de correlação dessas variáveis\n",
        "adv[[\"TV\", \"radio\", \"newspaper\"]].corr()\n",
        "# Normalmente uma empresa que investe em radio tende a investir em jornal"
      ],
      "execution_count": 34,
      "outputs": [
        {
          "output_type": "execute_result",
          "data": {
            "text/html": [
              "<div>\n",
              "<style scoped>\n",
              "    .dataframe tbody tr th:only-of-type {\n",
              "        vertical-align: middle;\n",
              "    }\n",
              "\n",
              "    .dataframe tbody tr th {\n",
              "        vertical-align: top;\n",
              "    }\n",
              "\n",
              "    .dataframe thead th {\n",
              "        text-align: right;\n",
              "    }\n",
              "</style>\n",
              "<table border=\"1\" class=\"dataframe\">\n",
              "  <thead>\n",
              "    <tr style=\"text-align: right;\">\n",
              "      <th></th>\n",
              "      <th>TV</th>\n",
              "      <th>radio</th>\n",
              "      <th>newspaper</th>\n",
              "    </tr>\n",
              "  </thead>\n",
              "  <tbody>\n",
              "    <tr>\n",
              "      <th>TV</th>\n",
              "      <td>1.000000</td>\n",
              "      <td>0.054809</td>\n",
              "      <td>0.056648</td>\n",
              "    </tr>\n",
              "    <tr>\n",
              "      <th>radio</th>\n",
              "      <td>0.054809</td>\n",
              "      <td>1.000000</td>\n",
              "      <td>0.354104</td>\n",
              "    </tr>\n",
              "    <tr>\n",
              "      <th>newspaper</th>\n",
              "      <td>0.056648</td>\n",
              "      <td>0.354104</td>\n",
              "      <td>1.000000</td>\n",
              "    </tr>\n",
              "  </tbody>\n",
              "</table>\n",
              "</div>"
            ],
            "text/plain": [
              "                 TV     radio  newspaper\n",
              "TV         1.000000  0.054809   0.056648\n",
              "radio      0.054809  1.000000   0.354104\n",
              "newspaper  0.056648  0.354104   1.000000"
            ]
          },
          "metadata": {
            "tags": []
          },
          "execution_count": 34
        }
      ]
    }
  ]
}